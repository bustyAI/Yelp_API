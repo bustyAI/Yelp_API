{
 "cells": [
  {
   "cell_type": "markdown",
   "id": "18ce022d",
   "metadata": {},
   "source": [
    "- Efficient Yelp API Calls\n",
    "- Oscar Ochoa\n",
    "-4/30/2022"
   ]
  },
  {
   "cell_type": "code",
   "execution_count": 2,
   "id": "1529fa95",
   "metadata": {},
   "outputs": [],
   "source": [
    "import pandas as pd\n",
    "import json\n",
    "import os\n",
    "import time, math\n",
    "from tqdm.notebook import tqdm_notebook\n",
    "from yelpapi import YelpAPI"
   ]
  },
  {
   "cell_type": "markdown",
   "id": "51ad10e7",
   "metadata": {},
   "source": [
    "# Accessing API"
   ]
  },
  {
   "cell_type": "code",
   "execution_count": 3,
   "id": "a34ae288",
   "metadata": {},
   "outputs": [
    {
     "data": {
      "text/plain": [
       "<yelpapi.yelpapi.YelpAPI at 0x1ff3d2cd7c8>"
      ]
     },
     "execution_count": 3,
     "metadata": {},
     "output_type": "execute_result"
    }
   ],
   "source": [
    "with open(\"c:/Users/oscar/.secret/yelp_api.json\") as f:\n",
    "    login = json.load(f)\n",
    "    \n",
    "yelp_api = YelpAPI(login[\"api_key\"], timeout_s=5.0)\n",
    "yelp_api"
   ]
  },
  {
   "cell_type": "markdown",
   "id": "4d91757f",
   "metadata": {},
   "source": [
    "# User Defined Functions"
   ]
  },
  {
   "cell_type": "markdown",
   "id": "5a6dbbe0",
   "metadata": {},
   "source": [
    "## Check if file exist"
   ]
  },
  {
   "cell_type": "code",
   "execution_count": 4,
   "id": "1115191e",
   "metadata": {},
   "outputs": [],
   "source": [
    "def file_exist(file):\n",
    "    # checks if file exist\n",
    "    file_exist = os.path.isfile(file)\n",
    "    \n",
    "    # if the file doesn't exist\n",
    "    if file_exist == False:\n",
    "        folder = os.path.dirname(file) # gets the folder name\n",
    "        \n",
    "        # if json included a folder\n",
    "        if len(folder) > 0:\n",
    "            # creates the folder\n",
    "            os.makedirs(folder, exist_ok=True)\n",
    "        \n",
    "        # Informs user that folder is being created\n",
    "        print(f\"[i]{file} not found. Saving empty list to file,\")\n",
    "    \n",
    "        with open(file, \"w\") as f:\n",
    "            json.dump([], f)\n",
    "    \n",
    "    else:\n",
    "        print(f\"[i] {file} already exist!\")\n",
    "        "
   ]
  },
  {
   "cell_type": "markdown",
   "id": "f2bd31d7",
   "metadata": {},
   "source": [
    "## Offset for pagination"
   ]
  },
  {
   "cell_type": "code",
   "execution_count": 5,
   "id": "cd52def2",
   "metadata": {},
   "outputs": [],
   "source": [
    "def offset(file):\n",
    "    with open(file, \"r\") as f:\n",
    "        previous_results = json.load(f)\n",
    "        \n",
    "    n_results = len(previous_results)\n",
    "    print(f\"- {n_results} previous results found.\")\n",
    "    \n",
    "    return n_results"
   ]
  },
  {
   "cell_type": "markdown",
   "id": "1e669c5c",
   "metadata": {},
   "source": [
    "## Obtain previous results"
   ]
  },
  {
   "cell_type": "code",
   "execution_count": 6,
   "id": "7a75bf5d",
   "metadata": {},
   "outputs": [],
   "source": [
    "def get_previous_results(file):\n",
    "    with open(file, \"r\") as f:\n",
    "        previous_results = json.load(f)\n",
    "    return previous_results"
   ]
  },
  {
   "cell_type": "markdown",
   "id": "db75788f",
   "metadata": {},
   "source": [
    "## Add results to json file"
   ]
  },
  {
   "cell_type": "code",
   "execution_count": 7,
   "id": "bda3072f",
   "metadata": {},
   "outputs": [],
   "source": [
    "def add_results(old_results, new_results, file):\n",
    "    old_results.extend(new_results)\n",
    "    with open(file, \"w\") as f:\n",
    "        json.dump(old_results, f)"
   ]
  },
  {
   "cell_type": "markdown",
   "id": "6adc91be",
   "metadata": {},
   "source": [
    "## API Call"
   ]
  },
  {
   "cell_type": "code",
   "execution_count": 8,
   "id": "75be7d22",
   "metadata": {},
   "outputs": [],
   "source": [
    "def call_api(file, search, pages):\n",
    "    for i in tqdm_notebook(range(1, pages+1)):\n",
    "        time.sleep(0.2)\n",
    "    \n",
    "        n_results = offset(file=file)\n",
    "    \n",
    "        results = yelp_api.search_query(location=LOCATION,\n",
    "                                   term=TERM,\n",
    "                                   offset=n_results)\n",
    "    \n",
    "        previous_results = get_previous_results(file=file)\n",
    "        add_results(previous_results, results[search], file)"
   ]
  },
  {
   "cell_type": "markdown",
   "id": "c045aaf2",
   "metadata": {},
   "source": [
    "## Get number of pages"
   ]
  },
  {
   "cell_type": "code",
   "execution_count": 9,
   "id": "404af672",
   "metadata": {},
   "outputs": [],
   "source": [
    "def get_n_pages(query, total, per_page):\n",
    "    total_results = query[total]\n",
    "    results_per_page = len(query[per_page])\n",
    "    n_pages = math.ceil((total_results - n_results) / results_per_page)\n",
    "    \n",
    "    return n_pages"
   ]
  },
  {
   "cell_type": "markdown",
   "id": "4cf00e87",
   "metadata": {},
   "source": [
    "# Extracting data from Yelp API"
   ]
  },
  {
   "cell_type": "code",
   "execution_count": 10,
   "id": "6f3358f2",
   "metadata": {},
   "outputs": [],
   "source": [
    "LOCATION = \"Bakersfield, CA, 93313\"\n",
    "TERM = \"Sushi\""
   ]
  },
  {
   "cell_type": "code",
   "execution_count": 11,
   "id": "62105945",
   "metadata": {},
   "outputs": [
    {
     "data": {
      "text/plain": [
       "'Data/results_in_progress_Sushi.json'"
      ]
     },
     "execution_count": 11,
     "metadata": {},
     "output_type": "execute_result"
    }
   ],
   "source": [
    "JSON_FILE = \"Data/results_in_progress_Sushi.json\"\n",
    "JSON_FILE"
   ]
  },
  {
   "cell_type": "code",
   "execution_count": 12,
   "id": "0d8c7059",
   "metadata": {},
   "outputs": [
    {
     "name": "stdout",
     "output_type": "stream",
     "text": [
      "[i] Data/results_in_progress_Sushi.json already exist!\n"
     ]
    }
   ],
   "source": [
    "# checking if file exist\n",
    "file_exist(file=JSON_FILE)"
   ]
  },
  {
   "cell_type": "code",
   "execution_count": 13,
   "id": "2cdc1fc2",
   "metadata": {},
   "outputs": [
    {
     "name": "stdout",
     "output_type": "stream",
     "text": [
      "- 81 previous results found.\n"
     ]
    }
   ],
   "source": [
    "# check to see if any data is inside file\n",
    "n_results = offset(file=JSON_FILE)"
   ]
  },
  {
   "cell_type": "code",
   "execution_count": 14,
   "id": "3a48aae6",
   "metadata": {},
   "outputs": [],
   "source": [
    "# calling api\n",
    "results = yelp_api.search_query(location=LOCATION,\n",
    "                               term=TERM)"
   ]
  },
  {
   "cell_type": "code",
   "execution_count": 15,
   "id": "6c95d17c",
   "metadata": {},
   "outputs": [
    {
     "data": {
      "text/plain": [
       "dict_keys(['businesses', 'total', 'region'])"
      ]
     },
     "execution_count": 15,
     "metadata": {},
     "output_type": "execute_result"
    }
   ],
   "source": [
    "# obtaining our keys \n",
    "results.keys()"
   ]
  },
  {
   "cell_type": "code",
   "execution_count": 16,
   "id": "aacd8ba4",
   "metadata": {},
   "outputs": [
    {
     "data": {
      "text/plain": [
       "81"
      ]
     },
     "execution_count": 16,
     "metadata": {},
     "output_type": "execute_result"
    }
   ],
   "source": [
    "# checking how much data our api call obtained\n",
    "results[\"total\"]"
   ]
  },
  {
   "cell_type": "code",
   "execution_count": 17,
   "id": "1374f867",
   "metadata": {},
   "outputs": [
    {
     "data": {
      "text/plain": [
       "0"
      ]
     },
     "execution_count": 17,
     "metadata": {},
     "output_type": "execute_result"
    }
   ],
   "source": [
    "# getting number of pages needed for our api call\n",
    "n_pages = get_n_pages(query=results, total=\"total\", per_page=\"businesses\")\n",
    "n_pages"
   ]
  },
  {
   "cell_type": "code",
   "execution_count": 18,
   "id": "38e679aa",
   "metadata": {},
   "outputs": [
    {
     "data": {
      "application/vnd.jupyter.widget-view+json": {
       "model_id": "974033329dbd4b35ad9591c83d7c3f96",
       "version_major": 2,
       "version_minor": 0
      },
      "text/plain": [
       "0it [00:00, ?it/s]"
      ]
     },
     "metadata": {},
     "output_type": "display_data"
    }
   ],
   "source": [
    "call_api(file=JSON_FILE, search=\"businesses\", pages=n_pages)"
   ]
  },
  {
   "cell_type": "markdown",
   "id": "7a4a1116",
   "metadata": {},
   "source": [
    "## Converting json into pandas Data Frame"
   ]
  },
  {
   "cell_type": "code",
   "execution_count": 18,
   "id": "b3991e84",
   "metadata": {},
   "outputs": [
    {
     "data": {
      "text/html": [
       "<div>\n",
       "<style scoped>\n",
       "    .dataframe tbody tr th:only-of-type {\n",
       "        vertical-align: middle;\n",
       "    }\n",
       "\n",
       "    .dataframe tbody tr th {\n",
       "        vertical-align: top;\n",
       "    }\n",
       "\n",
       "    .dataframe thead th {\n",
       "        text-align: right;\n",
       "    }\n",
       "</style>\n",
       "<table border=\"1\" class=\"dataframe\">\n",
       "  <thead>\n",
       "    <tr style=\"text-align: right;\">\n",
       "      <th></th>\n",
       "      <th>id</th>\n",
       "      <th>alias</th>\n",
       "      <th>name</th>\n",
       "      <th>image_url</th>\n",
       "      <th>is_closed</th>\n",
       "      <th>url</th>\n",
       "      <th>review_count</th>\n",
       "      <th>categories</th>\n",
       "      <th>rating</th>\n",
       "      <th>coordinates</th>\n",
       "      <th>transactions</th>\n",
       "      <th>price</th>\n",
       "      <th>location</th>\n",
       "      <th>phone</th>\n",
       "      <th>display_phone</th>\n",
       "      <th>distance</th>\n",
       "    </tr>\n",
       "  </thead>\n",
       "  <tbody>\n",
       "    <tr>\n",
       "      <th>0</th>\n",
       "      <td>sPhWfZXoJ3AhYqeR9HodPQ</td>\n",
       "      <td>sushi-n-grill-bakersfield</td>\n",
       "      <td>Sushi N Grill</td>\n",
       "      <td>https://s3-media3.fl.yelpcdn.com/bphoto/S36gaW...</td>\n",
       "      <td>False</td>\n",
       "      <td>https://www.yelp.com/biz/sushi-n-grill-bakersf...</td>\n",
       "      <td>199</td>\n",
       "      <td>[{'alias': 'japanese', 'title': 'Japanese'}, {...</td>\n",
       "      <td>4.0</td>\n",
       "      <td>{'latitude': 35.30989, 'longitude': -119.0401}</td>\n",
       "      <td>[pickup, delivery]</td>\n",
       "      <td>$$</td>\n",
       "      <td>{'address1': '3401 Pacheco Rd', 'address2': 'S...</td>\n",
       "      <td>+16618344227</td>\n",
       "      <td>(661) 834-4227</td>\n",
       "      <td>15655.082715</td>\n",
       "    </tr>\n",
       "    <tr>\n",
       "      <th>1</th>\n",
       "      <td>SiEipYoC1-c_zxmx4sFk6g</td>\n",
       "      <td>umi-sushi-and-sake-bakersfield-2</td>\n",
       "      <td>Umi Sushi &amp; Sake</td>\n",
       "      <td>https://s3-media2.fl.yelpcdn.com/bphoto/yPl_sG...</td>\n",
       "      <td>False</td>\n",
       "      <td>https://www.yelp.com/biz/umi-sushi-and-sake-ba...</td>\n",
       "      <td>326</td>\n",
       "      <td>[{'alias': 'japanese', 'title': 'Japanese'}, {...</td>\n",
       "      <td>4.5</td>\n",
       "      <td>{'latitude': 35.323542, 'longitude': -119.1265...</td>\n",
       "      <td>[pickup, delivery]</td>\n",
       "      <td>$$</td>\n",
       "      <td>{'address1': '3300 Buena Vista Rd', 'address2'...</td>\n",
       "      <td>+16615648020</td>\n",
       "      <td>(661) 564-8020</td>\n",
       "      <td>18694.477984</td>\n",
       "    </tr>\n",
       "    <tr>\n",
       "      <th>2</th>\n",
       "      <td>-xPJ4s-NVzM-Ncn0q6q2vA</td>\n",
       "      <td>jin-sushi-downtown-bakersfield</td>\n",
       "      <td>JIN Sushi- Downtown</td>\n",
       "      <td>https://s3-media3.fl.yelpcdn.com/bphoto/HrbE00...</td>\n",
       "      <td>False</td>\n",
       "      <td>https://www.yelp.com/biz/jin-sushi-downtown-ba...</td>\n",
       "      <td>624</td>\n",
       "      <td>[{'alias': 'japanese', 'title': 'Japanese'}, {...</td>\n",
       "      <td>4.5</td>\n",
       "      <td>{'latitude': 35.3765182, 'longitude': -119.020...</td>\n",
       "      <td>[pickup, delivery]</td>\n",
       "      <td>$$</td>\n",
       "      <td>{'address1': '1600 19th St', 'address2': '', '...</td>\n",
       "      <td>+16614474622</td>\n",
       "      <td>(661) 447-4622</td>\n",
       "      <td>23167.466760</td>\n",
       "    </tr>\n",
       "    <tr>\n",
       "      <th>3</th>\n",
       "      <td>aNBmx-Lm4hkqwiXDymVEYA</td>\n",
       "      <td>love-sushi-bakersfield-3</td>\n",
       "      <td>Love Sushi</td>\n",
       "      <td>https://s3-media1.fl.yelpcdn.com/bphoto/uommoc...</td>\n",
       "      <td>False</td>\n",
       "      <td>https://www.yelp.com/biz/love-sushi-bakersfiel...</td>\n",
       "      <td>188</td>\n",
       "      <td>[{'alias': 'japanese', 'title': 'Japanese'}, {...</td>\n",
       "      <td>3.5</td>\n",
       "      <td>{'latitude': 35.2945541, 'longitude': -119.075...</td>\n",
       "      <td>[pickup, delivery]</td>\n",
       "      <td>$$</td>\n",
       "      <td>{'address1': '6515 Panama Ln', 'address2': 'St...</td>\n",
       "      <td>+16613988800</td>\n",
       "      <td>(661) 398-8800</td>\n",
       "      <td>14223.153744</td>\n",
       "    </tr>\n",
       "    <tr>\n",
       "      <th>4</th>\n",
       "      <td>WuTohPMzH-z5uj39ldHPTQ</td>\n",
       "      <td>jin-sushi-brimhall-and-allen-bakersfield</td>\n",
       "      <td>JIN Sushi- Brimhall &amp; Allen</td>\n",
       "      <td>https://s3-media3.fl.yelpcdn.com/bphoto/a8wTBn...</td>\n",
       "      <td>False</td>\n",
       "      <td>https://www.yelp.com/biz/jin-sushi-brimhall-an...</td>\n",
       "      <td>90</td>\n",
       "      <td>[{'alias': 'sushi', 'title': 'Sushi Bars'}, {'...</td>\n",
       "      <td>4.5</td>\n",
       "      <td>{'latitude': 35.369264, 'longitude': -119.146288}</td>\n",
       "      <td>[pickup, delivery]</td>\n",
       "      <td>$$</td>\n",
       "      <td>{'address1': '12900 Brimhall Rd', 'address2': ...</td>\n",
       "      <td>+16614593400</td>\n",
       "      <td>(661) 459-3400</td>\n",
       "      <td>24075.191853</td>\n",
       "    </tr>\n",
       "  </tbody>\n",
       "</table>\n",
       "</div>"
      ],
      "text/plain": [
       "                       id                                     alias  \\\n",
       "0  sPhWfZXoJ3AhYqeR9HodPQ                 sushi-n-grill-bakersfield   \n",
       "1  SiEipYoC1-c_zxmx4sFk6g          umi-sushi-and-sake-bakersfield-2   \n",
       "2  -xPJ4s-NVzM-Ncn0q6q2vA            jin-sushi-downtown-bakersfield   \n",
       "3  aNBmx-Lm4hkqwiXDymVEYA                  love-sushi-bakersfield-3   \n",
       "4  WuTohPMzH-z5uj39ldHPTQ  jin-sushi-brimhall-and-allen-bakersfield   \n",
       "\n",
       "                          name  \\\n",
       "0                Sushi N Grill   \n",
       "1             Umi Sushi & Sake   \n",
       "2          JIN Sushi- Downtown   \n",
       "3                   Love Sushi   \n",
       "4  JIN Sushi- Brimhall & Allen   \n",
       "\n",
       "                                           image_url  is_closed  \\\n",
       "0  https://s3-media3.fl.yelpcdn.com/bphoto/S36gaW...      False   \n",
       "1  https://s3-media2.fl.yelpcdn.com/bphoto/yPl_sG...      False   \n",
       "2  https://s3-media3.fl.yelpcdn.com/bphoto/HrbE00...      False   \n",
       "3  https://s3-media1.fl.yelpcdn.com/bphoto/uommoc...      False   \n",
       "4  https://s3-media3.fl.yelpcdn.com/bphoto/a8wTBn...      False   \n",
       "\n",
       "                                                 url  review_count  \\\n",
       "0  https://www.yelp.com/biz/sushi-n-grill-bakersf...           199   \n",
       "1  https://www.yelp.com/biz/umi-sushi-and-sake-ba...           326   \n",
       "2  https://www.yelp.com/biz/jin-sushi-downtown-ba...           624   \n",
       "3  https://www.yelp.com/biz/love-sushi-bakersfiel...           188   \n",
       "4  https://www.yelp.com/biz/jin-sushi-brimhall-an...            90   \n",
       "\n",
       "                                          categories  rating  \\\n",
       "0  [{'alias': 'japanese', 'title': 'Japanese'}, {...     4.0   \n",
       "1  [{'alias': 'japanese', 'title': 'Japanese'}, {...     4.5   \n",
       "2  [{'alias': 'japanese', 'title': 'Japanese'}, {...     4.5   \n",
       "3  [{'alias': 'japanese', 'title': 'Japanese'}, {...     3.5   \n",
       "4  [{'alias': 'sushi', 'title': 'Sushi Bars'}, {'...     4.5   \n",
       "\n",
       "                                         coordinates        transactions  \\\n",
       "0     {'latitude': 35.30989, 'longitude': -119.0401}  [pickup, delivery]   \n",
       "1  {'latitude': 35.323542, 'longitude': -119.1265...  [pickup, delivery]   \n",
       "2  {'latitude': 35.3765182, 'longitude': -119.020...  [pickup, delivery]   \n",
       "3  {'latitude': 35.2945541, 'longitude': -119.075...  [pickup, delivery]   \n",
       "4  {'latitude': 35.369264, 'longitude': -119.146288}  [pickup, delivery]   \n",
       "\n",
       "  price                                           location         phone  \\\n",
       "0    $$  {'address1': '3401 Pacheco Rd', 'address2': 'S...  +16618344227   \n",
       "1    $$  {'address1': '3300 Buena Vista Rd', 'address2'...  +16615648020   \n",
       "2    $$  {'address1': '1600 19th St', 'address2': '', '...  +16614474622   \n",
       "3    $$  {'address1': '6515 Panama Ln', 'address2': 'St...  +16613988800   \n",
       "4    $$  {'address1': '12900 Brimhall Rd', 'address2': ...  +16614593400   \n",
       "\n",
       "    display_phone      distance  \n",
       "0  (661) 834-4227  15655.082715  \n",
       "1  (661) 564-8020  18694.477984  \n",
       "2  (661) 447-4622  23167.466760  \n",
       "3  (661) 398-8800  14223.153744  \n",
       "4  (661) 459-3400  24075.191853  "
      ]
     },
     "metadata": {},
     "output_type": "display_data"
    },
    {
     "data": {
      "text/html": [
       "<div>\n",
       "<style scoped>\n",
       "    .dataframe tbody tr th:only-of-type {\n",
       "        vertical-align: middle;\n",
       "    }\n",
       "\n",
       "    .dataframe tbody tr th {\n",
       "        vertical-align: top;\n",
       "    }\n",
       "\n",
       "    .dataframe thead th {\n",
       "        text-align: right;\n",
       "    }\n",
       "</style>\n",
       "<table border=\"1\" class=\"dataframe\">\n",
       "  <thead>\n",
       "    <tr style=\"text-align: right;\">\n",
       "      <th></th>\n",
       "      <th>id</th>\n",
       "      <th>alias</th>\n",
       "      <th>name</th>\n",
       "      <th>image_url</th>\n",
       "      <th>is_closed</th>\n",
       "      <th>url</th>\n",
       "      <th>review_count</th>\n",
       "      <th>categories</th>\n",
       "      <th>rating</th>\n",
       "      <th>coordinates</th>\n",
       "      <th>transactions</th>\n",
       "      <th>price</th>\n",
       "      <th>location</th>\n",
       "      <th>phone</th>\n",
       "      <th>display_phone</th>\n",
       "      <th>distance</th>\n",
       "    </tr>\n",
       "  </thead>\n",
       "  <tbody>\n",
       "    <tr>\n",
       "      <th>76</th>\n",
       "      <td>WnxL_Ip3zzlXJKZadtmSzA</td>\n",
       "      <td>chinatown-buffet-bakersfield-2</td>\n",
       "      <td>Chinatown Buffet</td>\n",
       "      <td>https://s3-media1.fl.yelpcdn.com/bphoto/lY4jdq...</td>\n",
       "      <td>False</td>\n",
       "      <td>https://www.yelp.com/biz/chinatown-buffet-bake...</td>\n",
       "      <td>94</td>\n",
       "      <td>[{'alias': 'buffets', 'title': 'Buffets'}, {'a...</td>\n",
       "      <td>2.5</td>\n",
       "      <td>{'latitude': 35.36782, 'longitude': -119.03946}</td>\n",
       "      <td>[]</td>\n",
       "      <td>$$</td>\n",
       "      <td>{'address1': '1021 Oak St', 'address2': '', 'a...</td>\n",
       "      <td>+16613243189</td>\n",
       "      <td>(661) 324-3189</td>\n",
       "      <td>22094.538082</td>\n",
       "    </tr>\n",
       "    <tr>\n",
       "      <th>77</th>\n",
       "      <td>9HAkEFLc9rK211uK3MOuow</td>\n",
       "      <td>vons-bakersfield-8</td>\n",
       "      <td>Vons</td>\n",
       "      <td>https://s3-media3.fl.yelpcdn.com/bphoto/93-iQu...</td>\n",
       "      <td>False</td>\n",
       "      <td>https://www.yelp.com/biz/vons-bakersfield-8?ad...</td>\n",
       "      <td>61</td>\n",
       "      <td>[{'alias': 'grocery', 'title': 'Grocery'}]</td>\n",
       "      <td>3.0</td>\n",
       "      <td>{'latitude': 35.3416605, 'longitude': -119.102...</td>\n",
       "      <td>[]</td>\n",
       "      <td>$$</td>\n",
       "      <td>{'address1': '9000 Ming Ave', 'address2': '', ...</td>\n",
       "      <td>+16616630595</td>\n",
       "      <td>(661) 663-0595</td>\n",
       "      <td>19879.753576</td>\n",
       "    </tr>\n",
       "    <tr>\n",
       "      <th>78</th>\n",
       "      <td>N6f2wTV9Gd7iqFe2norBAg</td>\n",
       "      <td>7-eleven-bakersfield-19</td>\n",
       "      <td>7-Eleven</td>\n",
       "      <td>https://s3-media2.fl.yelpcdn.com/bphoto/WgKK4Y...</td>\n",
       "      <td>False</td>\n",
       "      <td>https://www.yelp.com/biz/7-eleven-bakersfield-...</td>\n",
       "      <td>6</td>\n",
       "      <td>[{'alias': 'convenience', 'title': 'Convenienc...</td>\n",
       "      <td>2.5</td>\n",
       "      <td>{'latitude': 35.3537992496193, 'longitude': -1...</td>\n",
       "      <td>[pickup, delivery]</td>\n",
       "      <td>$</td>\n",
       "      <td>{'address1': '5301 Stockdale Hwy', 'address2':...</td>\n",
       "      <td>+16618324455</td>\n",
       "      <td>(661) 832-4455</td>\n",
       "      <td>20579.402904</td>\n",
       "    </tr>\n",
       "    <tr>\n",
       "      <th>79</th>\n",
       "      <td>A5AhA_LYfGMmpWPVhVkyBQ</td>\n",
       "      <td>trader-joes-bakersfield</td>\n",
       "      <td>Trader Joe's</td>\n",
       "      <td>https://s3-media4.fl.yelpcdn.com/bphoto/Ld2H_y...</td>\n",
       "      <td>False</td>\n",
       "      <td>https://www.yelp.com/biz/trader-joes-bakersfie...</td>\n",
       "      <td>170</td>\n",
       "      <td>[{'alias': 'grocery', 'title': 'Grocery'}]</td>\n",
       "      <td>4.5</td>\n",
       "      <td>{'latitude': 35.357022, 'longitude': -119.093527}</td>\n",
       "      <td>[]</td>\n",
       "      <td>$$</td>\n",
       "      <td>{'address1': '8200 Stockdale Hwy', 'address2':...</td>\n",
       "      <td>+16618378863</td>\n",
       "      <td>(661) 837-8863</td>\n",
       "      <td>21348.660267</td>\n",
       "    </tr>\n",
       "    <tr>\n",
       "      <th>80</th>\n",
       "      <td>WOkEQhQv2ZRLRC-Z15iLIg</td>\n",
       "      <td>7-eleven-bakersfield-18</td>\n",
       "      <td>7-Eleven</td>\n",
       "      <td>https://s3-media4.fl.yelpcdn.com/bphoto/9Sm52P...</td>\n",
       "      <td>False</td>\n",
       "      <td>https://www.yelp.com/biz/7-eleven-bakersfield-...</td>\n",
       "      <td>4</td>\n",
       "      <td>[{'alias': 'convenience', 'title': 'Convenienc...</td>\n",
       "      <td>2.0</td>\n",
       "      <td>{'latitude': 35.3972717, 'longitude': -118.985...</td>\n",
       "      <td>[delivery, pickup]</td>\n",
       "      <td>$</td>\n",
       "      <td>{'address1': '2636 River Blvd', 'address2': ''...</td>\n",
       "      <td>+16613222995</td>\n",
       "      <td>(661) 322-2995</td>\n",
       "      <td>25935.471331</td>\n",
       "    </tr>\n",
       "  </tbody>\n",
       "</table>\n",
       "</div>"
      ],
      "text/plain": [
       "                        id                           alias              name  \\\n",
       "76  WnxL_Ip3zzlXJKZadtmSzA  chinatown-buffet-bakersfield-2  Chinatown Buffet   \n",
       "77  9HAkEFLc9rK211uK3MOuow              vons-bakersfield-8              Vons   \n",
       "78  N6f2wTV9Gd7iqFe2norBAg         7-eleven-bakersfield-19          7-Eleven   \n",
       "79  A5AhA_LYfGMmpWPVhVkyBQ         trader-joes-bakersfield      Trader Joe's   \n",
       "80  WOkEQhQv2ZRLRC-Z15iLIg         7-eleven-bakersfield-18          7-Eleven   \n",
       "\n",
       "                                            image_url  is_closed  \\\n",
       "76  https://s3-media1.fl.yelpcdn.com/bphoto/lY4jdq...      False   \n",
       "77  https://s3-media3.fl.yelpcdn.com/bphoto/93-iQu...      False   \n",
       "78  https://s3-media2.fl.yelpcdn.com/bphoto/WgKK4Y...      False   \n",
       "79  https://s3-media4.fl.yelpcdn.com/bphoto/Ld2H_y...      False   \n",
       "80  https://s3-media4.fl.yelpcdn.com/bphoto/9Sm52P...      False   \n",
       "\n",
       "                                                  url  review_count  \\\n",
       "76  https://www.yelp.com/biz/chinatown-buffet-bake...            94   \n",
       "77  https://www.yelp.com/biz/vons-bakersfield-8?ad...            61   \n",
       "78  https://www.yelp.com/biz/7-eleven-bakersfield-...             6   \n",
       "79  https://www.yelp.com/biz/trader-joes-bakersfie...           170   \n",
       "80  https://www.yelp.com/biz/7-eleven-bakersfield-...             4   \n",
       "\n",
       "                                           categories  rating  \\\n",
       "76  [{'alias': 'buffets', 'title': 'Buffets'}, {'a...     2.5   \n",
       "77         [{'alias': 'grocery', 'title': 'Grocery'}]     3.0   \n",
       "78  [{'alias': 'convenience', 'title': 'Convenienc...     2.5   \n",
       "79         [{'alias': 'grocery', 'title': 'Grocery'}]     4.5   \n",
       "80  [{'alias': 'convenience', 'title': 'Convenienc...     2.0   \n",
       "\n",
       "                                          coordinates        transactions  \\\n",
       "76    {'latitude': 35.36782, 'longitude': -119.03946}                  []   \n",
       "77  {'latitude': 35.3416605, 'longitude': -119.102...                  []   \n",
       "78  {'latitude': 35.3537992496193, 'longitude': -1...  [pickup, delivery]   \n",
       "79  {'latitude': 35.357022, 'longitude': -119.093527}                  []   \n",
       "80  {'latitude': 35.3972717, 'longitude': -118.985...  [delivery, pickup]   \n",
       "\n",
       "   price                                           location         phone  \\\n",
       "76    $$  {'address1': '1021 Oak St', 'address2': '', 'a...  +16613243189   \n",
       "77    $$  {'address1': '9000 Ming Ave', 'address2': '', ...  +16616630595   \n",
       "78     $  {'address1': '5301 Stockdale Hwy', 'address2':...  +16618324455   \n",
       "79    $$  {'address1': '8200 Stockdale Hwy', 'address2':...  +16618378863   \n",
       "80     $  {'address1': '2636 River Blvd', 'address2': ''...  +16613222995   \n",
       "\n",
       "     display_phone      distance  \n",
       "76  (661) 324-3189  22094.538082  \n",
       "77  (661) 663-0595  19879.753576  \n",
       "78  (661) 832-4455  20579.402904  \n",
       "79  (661) 837-8863  21348.660267  \n",
       "80  (661) 322-2995  25935.471331  "
      ]
     },
     "metadata": {},
     "output_type": "display_data"
    }
   ],
   "source": [
    "final_df = pd.read_json(JSON_FILE)\n",
    "display(final_df.head(), final_df.tail())"
   ]
  },
  {
   "cell_type": "code",
   "execution_count": 20,
   "id": "1ace695e",
   "metadata": {},
   "outputs": [
    {
     "data": {
      "text/plain": [
       "0"
      ]
     },
     "execution_count": 20,
     "metadata": {},
     "output_type": "execute_result"
    }
   ],
   "source": [
    "# checking for duplicates\n",
    "final_df.duplicated(subset=\"id\").sum()"
   ]
  },
  {
   "cell_type": "code",
   "execution_count": 22,
   "id": "3e7caa63",
   "metadata": {},
   "outputs": [],
   "source": [
    "final_df.to_csv(\"Data/final_results_sushi.csv.gz\", compression=\"gzip\", index=False)"
   ]
  },
  {
   "cell_type": "code",
   "execution_count": null,
   "id": "d826eafb",
   "metadata": {},
   "outputs": [],
   "source": []
  }
 ],
 "metadata": {
  "kernelspec": {
   "display_name": "Python (dojo-env)",
   "language": "python",
   "name": "dojo-env"
  },
  "language_info": {
   "codemirror_mode": {
    "name": "ipython",
    "version": 3
   },
   "file_extension": ".py",
   "mimetype": "text/x-python",
   "name": "python",
   "nbconvert_exporter": "python",
   "pygments_lexer": "ipython3",
   "version": "3.7.12"
  },
  "toc": {
   "base_numbering": 1,
   "nav_menu": {},
   "number_sections": true,
   "sideBar": true,
   "skip_h1_title": false,
   "title_cell": "Table of Contents",
   "title_sidebar": "Contents",
   "toc_cell": false,
   "toc_position": {
    "height": "calc(100% - 180px)",
    "left": "10px",
    "top": "150px",
    "width": "232.358px"
   },
   "toc_section_display": true,
   "toc_window_display": true
  }
 },
 "nbformat": 4,
 "nbformat_minor": 5
}
